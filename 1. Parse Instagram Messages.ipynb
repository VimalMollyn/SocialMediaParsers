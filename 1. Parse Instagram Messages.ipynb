{
 "cells": [
  {
   "cell_type": "code",
   "execution_count": 1,
   "id": "d5763e59",
   "metadata": {},
   "outputs": [],
   "source": [
    "import json\n",
    "from pathlib import Path\n",
    "import pandas as pd\n",
    "from datetime import datetime"
   ]
  },
  {
   "cell_type": "code",
   "execution_count": 2,
   "id": "3604ce24",
   "metadata": {},
   "outputs": [],
   "source": [
    "def parse_messages(path):\n",
    "    path_to_messages = path / \"messages/inbox\"\n",
    "\n",
    "    # iterate through the inbox\n",
    "    for fpath in path_to_messages.iterdir():\n",
    "        fdata = json.load(open(fpath / \"message_1.json\", \"r\"))\n",
    "        messages_df = pd.DataFrame(fdata[\"messages\"])\n",
    "        messages_df[\"timetamp\"] = messages_df[\"timestamp_ms\"].apply(lambda x: str(datetime.fromtimestamp(x/1000)))\n",
    "        break\n",
    "    return messages_df"
   ]
  },
  {
   "cell_type": "code",
   "execution_count": 3,
   "id": "87d144e1",
   "metadata": {},
   "outputs": [],
   "source": [
    "path_to_data = Path(\"../data/Instagram volunteer2 JSON/\")"
   ]
  },
  {
   "cell_type": "code",
   "execution_count": 4,
   "id": "91358815",
   "metadata": {},
   "outputs": [],
   "source": [
    "messages_df = parse_messages(path_to_data)"
   ]
  },
  {
   "cell_type": "code",
   "execution_count": 5,
   "id": "3e4d60b7",
   "metadata": {},
   "outputs": [
    {
     "data": {
      "text/html": [
       "<div>\n",
       "<style scoped>\n",
       "    .dataframe tbody tr th:only-of-type {\n",
       "        vertical-align: middle;\n",
       "    }\n",
       "\n",
       "    .dataframe tbody tr th {\n",
       "        vertical-align: top;\n",
       "    }\n",
       "\n",
       "    .dataframe thead th {\n",
       "        text-align: right;\n",
       "    }\n",
       "</style>\n",
       "<table border=\"1\" class=\"dataframe\">\n",
       "  <thead>\n",
       "    <tr style=\"text-align: right;\">\n",
       "      <th></th>\n",
       "      <th>sender_name</th>\n",
       "      <th>timestamp_ms</th>\n",
       "      <th>share</th>\n",
       "      <th>type</th>\n",
       "      <th>is_unsent</th>\n",
       "      <th>content</th>\n",
       "      <th>reactions</th>\n",
       "      <th>timetamp</th>\n",
       "    </tr>\n",
       "  </thead>\n",
       "  <tbody>\n",
       "    <tr>\n",
       "      <th>0</th>\n",
       "      <td>Christian CloÃ«s</td>\n",
       "      <td>1640633446637</td>\n",
       "      <td>{'link': 'https://www.instagram.com/p/CX-G2Xis...</td>\n",
       "      <td>Share</td>\n",
       "      <td>False</td>\n",
       "      <td>NaN</td>\n",
       "      <td>NaN</td>\n",
       "      <td>2021-12-27 14:30:46.637000</td>\n",
       "    </tr>\n",
       "    <tr>\n",
       "      <th>1</th>\n",
       "      <td>Christian CloÃ«s</td>\n",
       "      <td>1640633429475</td>\n",
       "      <td>{'link': 'https://www.instagram.com/p/CX_nKBcl...</td>\n",
       "      <td>Share</td>\n",
       "      <td>False</td>\n",
       "      <td>NaN</td>\n",
       "      <td>NaN</td>\n",
       "      <td>2021-12-27 14:30:29.475000</td>\n",
       "    </tr>\n",
       "    <tr>\n",
       "      <th>2</th>\n",
       "      <td>Christian CloÃ«s</td>\n",
       "      <td>1640565888021</td>\n",
       "      <td>NaN</td>\n",
       "      <td>Generic</td>\n",
       "      <td>False</td>\n",
       "      <td>HAHAHAHA</td>\n",
       "      <td>NaN</td>\n",
       "      <td>2021-12-26 19:44:48.021000</td>\n",
       "    </tr>\n",
       "    <tr>\n",
       "      <th>3</th>\n",
       "      <td>Emma DeMartinoð»</td>\n",
       "      <td>1640557965491</td>\n",
       "      <td>NaN</td>\n",
       "      <td>Generic</td>\n",
       "      <td>False</td>\n",
       "      <td>STAHP</td>\n",
       "      <td>NaN</td>\n",
       "      <td>2021-12-26 17:32:45.491000</td>\n",
       "    </tr>\n",
       "    <tr>\n",
       "      <th>4</th>\n",
       "      <td>Emma DeMartinoð»</td>\n",
       "      <td>1640557962628</td>\n",
       "      <td>NaN</td>\n",
       "      <td>Generic</td>\n",
       "      <td>False</td>\n",
       "      <td>STAHO</td>\n",
       "      <td>NaN</td>\n",
       "      <td>2021-12-26 17:32:42.628000</td>\n",
       "    </tr>\n",
       "    <tr>\n",
       "      <th>...</th>\n",
       "      <td>...</td>\n",
       "      <td>...</td>\n",
       "      <td>...</td>\n",
       "      <td>...</td>\n",
       "      <td>...</td>\n",
       "      <td>...</td>\n",
       "      <td>...</td>\n",
       "      <td>...</td>\n",
       "    </tr>\n",
       "    <tr>\n",
       "      <th>117</th>\n",
       "      <td>Christian CloÃ«s</td>\n",
       "      <td>1595388845067</td>\n",
       "      <td>{'link': 'https://instagram.com/stories/emma.d...</td>\n",
       "      <td>Share</td>\n",
       "      <td>False</td>\n",
       "      <td>SO ACCURATE</td>\n",
       "      <td>NaN</td>\n",
       "      <td>2020-07-21 23:34:05.067000</td>\n",
       "    </tr>\n",
       "    <tr>\n",
       "      <th>118</th>\n",
       "      <td>Christian CloÃ«s</td>\n",
       "      <td>1501979627356</td>\n",
       "      <td>NaN</td>\n",
       "      <td>Generic</td>\n",
       "      <td>False</td>\n",
       "      <td>ððððð</td>\n",
       "      <td>NaN</td>\n",
       "      <td>2017-08-05 20:33:47.356000</td>\n",
       "    </tr>\n",
       "    <tr>\n",
       "      <th>119</th>\n",
       "      <td>Christian CloÃ«s</td>\n",
       "      <td>1501979621705</td>\n",
       "      <td>NaN</td>\n",
       "      <td>Generic</td>\n",
       "      <td>False</td>\n",
       "      <td>Reacted â¤ï¸ to your message</td>\n",
       "      <td>NaN</td>\n",
       "      <td>2017-08-05 20:33:41.705000</td>\n",
       "    </tr>\n",
       "    <tr>\n",
       "      <th>120</th>\n",
       "      <td>Emma DeMartinoð»</td>\n",
       "      <td>1501973634487</td>\n",
       "      <td>NaN</td>\n",
       "      <td>Generic</td>\n",
       "      <td>False</td>\n",
       "      <td>idk why but this sounds like u lol</td>\n",
       "      <td>NaN</td>\n",
       "      <td>2017-08-05 18:53:54.487000</td>\n",
       "    </tr>\n",
       "    <tr>\n",
       "      <th>121</th>\n",
       "      <td>Emma DeMartinoð»</td>\n",
       "      <td>1501973634487</td>\n",
       "      <td>{'link': 'https://www.instagram.com/p/BXbfTC-F...</td>\n",
       "      <td>Share</td>\n",
       "      <td>False</td>\n",
       "      <td>NaN</td>\n",
       "      <td>[{'reaction': 'â¤ï¸', 'actor': 'Christian Cl...</td>\n",
       "      <td>2017-08-05 18:53:54.487000</td>\n",
       "    </tr>\n",
       "  </tbody>\n",
       "</table>\n",
       "<p>122 rows × 8 columns</p>\n",
       "</div>"
      ],
      "text/plain": [
       "            sender_name   timestamp_ms  \\\n",
       "0      Christian CloÃ«s  1640633446637   \n",
       "1      Christian CloÃ«s  1640633429475   \n",
       "2      Christian CloÃ«s  1640565888021   \n",
       "3    Emma DeMartinoð»  1640557965491   \n",
       "4    Emma DeMartinoð»  1640557962628   \n",
       "..                  ...            ...   \n",
       "117    Christian CloÃ«s  1595388845067   \n",
       "118    Christian CloÃ«s  1501979627356   \n",
       "119    Christian CloÃ«s  1501979621705   \n",
       "120  Emma DeMartinoð»  1501973634487   \n",
       "121  Emma DeMartinoð»  1501973634487   \n",
       "\n",
       "                                                 share     type  is_unsent  \\\n",
       "0    {'link': 'https://www.instagram.com/p/CX-G2Xis...    Share      False   \n",
       "1    {'link': 'https://www.instagram.com/p/CX_nKBcl...    Share      False   \n",
       "2                                                  NaN  Generic      False   \n",
       "3                                                  NaN  Generic      False   \n",
       "4                                                  NaN  Generic      False   \n",
       "..                                                 ...      ...        ...   \n",
       "117  {'link': 'https://instagram.com/stories/emma.d...    Share      False   \n",
       "118                                                NaN  Generic      False   \n",
       "119                                                NaN  Generic      False   \n",
       "120                                                NaN  Generic      False   \n",
       "121  {'link': 'https://www.instagram.com/p/BXbfTC-F...    Share      False   \n",
       "\n",
       "                                content  \\\n",
       "0                                   NaN   \n",
       "1                                   NaN   \n",
       "2                              HAHAHAHA   \n",
       "3                                 STAHP   \n",
       "4                                 STAHO   \n",
       "..                                  ...   \n",
       "117                         SO ACCURATE   \n",
       "118                ððððð   \n",
       "119     Reacted â¤ï¸ to your message    \n",
       "120  idk why but this sounds like u lol   \n",
       "121                                 NaN   \n",
       "\n",
       "                                             reactions  \\\n",
       "0                                                  NaN   \n",
       "1                                                  NaN   \n",
       "2                                                  NaN   \n",
       "3                                                  NaN   \n",
       "4                                                  NaN   \n",
       "..                                                 ...   \n",
       "117                                                NaN   \n",
       "118                                                NaN   \n",
       "119                                                NaN   \n",
       "120                                                NaN   \n",
       "121  [{'reaction': 'â¤ï¸', 'actor': 'Christian Cl...   \n",
       "\n",
       "                       timetamp  \n",
       "0    2021-12-27 14:30:46.637000  \n",
       "1    2021-12-27 14:30:29.475000  \n",
       "2    2021-12-26 19:44:48.021000  \n",
       "3    2021-12-26 17:32:45.491000  \n",
       "4    2021-12-26 17:32:42.628000  \n",
       "..                          ...  \n",
       "117  2020-07-21 23:34:05.067000  \n",
       "118  2017-08-05 20:33:47.356000  \n",
       "119  2017-08-05 20:33:41.705000  \n",
       "120  2017-08-05 18:53:54.487000  \n",
       "121  2017-08-05 18:53:54.487000  \n",
       "\n",
       "[122 rows x 8 columns]"
      ]
     },
     "execution_count": 5,
     "metadata": {},
     "output_type": "execute_result"
    }
   ],
   "source": [
    "messages_df"
   ]
  },
  {
   "cell_type": "code",
   "execution_count": 6,
   "id": "90a2608f",
   "metadata": {},
   "outputs": [
    {
     "data": {
      "text/plain": [
       "array(['Christian CloÃ«s', 'Emma DeMartinoð\\x9f\\x8c»'], dtype=object)"
      ]
     },
     "execution_count": 6,
     "metadata": {},
     "output_type": "execute_result"
    }
   ],
   "source": [
    "messages_df[\"sender_name\"].unique()"
   ]
  },
  {
   "cell_type": "code",
   "execution_count": 7,
   "id": "26ea74c8",
   "metadata": {},
   "outputs": [
    {
     "data": {
      "text/plain": [
       "0        Share\n",
       "1        Share\n",
       "2      Generic\n",
       "3      Generic\n",
       "4      Generic\n",
       "        ...   \n",
       "117      Share\n",
       "118    Generic\n",
       "119    Generic\n",
       "120    Generic\n",
       "121      Share\n",
       "Name: type, Length: 122, dtype: object"
      ]
     },
     "execution_count": 7,
     "metadata": {},
     "output_type": "execute_result"
    }
   ],
   "source": [
    "messages_df[\"type\"]"
   ]
  },
  {
   "cell_type": "code",
   "execution_count": 8,
   "id": "956070ac",
   "metadata": {},
   "outputs": [
    {
     "name": "stdout",
     "output_type": "stream",
     "text": [
      "{'link': 'https://www.instagram.com/p/CX-G2XismUl/', 'share_text': 'Now here I am, croding in my soup\\n(Twitter @ ashtoochill)', 'original_content_owner': 'fuckitimarobot'}\n"
     ]
    },
    {
     "data": {
      "text/plain": [
       "0      [https://www.instagram.com/p/CX-G2XismUl/, Now...\n",
       "1      [https://www.instagram.com/p/CX_nKBclHN8/, Soc...\n",
       "7      [https://www.instagram.com/p/CVLtF8VPGaW/, Man...\n",
       "11     [https://www.instagram.com/p/CUqpnqlAbx_/, I w...\n",
       "17     [https://www.instagram.com/p/CT-Kf3HL8Yg/, Whe...\n",
       "34     [https://www.instagram.com/p/CQmaSLJLvNf/, Whe...\n",
       "37     [https://www.instagram.com/p/CP_bXS3DST7/, Lma...\n",
       "48     [https://www.instagram.com/p/CPgwVkzlwAl/, â...\n",
       "65     [https://www.instagram.com/p/CPeEb3JFVE4/, Who...\n",
       "99     [https://www.instagram.com/p/CPY9AX-lRee/, I t...\n",
       "100    [https://www.instagram.com/p/CPQP-cIHhO2/, , d...\n",
       "113    [https://www.instagram.com/p/CPELyDYFE4s/, Whe...\n",
       "117    [https://instagram.com/stories/emma.demartino/...\n",
       "121    [https://www.instagram.com/p/BXbfTC-Fgq1/, I d...\n",
       "Name: share, dtype: object"
      ]
     },
     "execution_count": 8,
     "metadata": {},
     "output_type": "execute_result"
    }
   ],
   "source": [
    "print(messages_df[messages_df[\"type\"] == \"Share\"][\"share\"][0])\n",
    "messages_df[messages_df[\"type\"] == \"Share\"][\"share\"].apply(lambda x: [v for v in x.values()])"
   ]
  },
  {
   "cell_type": "code",
   "execution_count": 9,
   "id": "b890e927",
   "metadata": {},
   "outputs": [
    {
     "data": {
      "text/plain": [
       "0      False\n",
       "1      False\n",
       "2      False\n",
       "3      False\n",
       "4      False\n",
       "       ...  \n",
       "117    False\n",
       "118    False\n",
       "119    False\n",
       "120    False\n",
       "121    False\n",
       "Name: is_unsent, Length: 122, dtype: bool"
      ]
     },
     "execution_count": 9,
     "metadata": {},
     "output_type": "execute_result"
    }
   ],
   "source": [
    "messages_df[\"is_unsent\"]"
   ]
  },
  {
   "cell_type": "code",
   "execution_count": 10,
   "id": "285474a7",
   "metadata": {},
   "outputs": [
    {
     "data": {
      "text/plain": [
       "2                                HAHAHAHA\n",
       "3                                   STAHP\n",
       "4                                   STAHO\n",
       "5                                     NaN\n",
       "6                                  Agreed\n",
       "                      ...                \n",
       "115                                   NaN\n",
       "116               HAHAHA it really is omg\n",
       "118                  ððððð\n",
       "119       Reacted â¤ï¸ to your message \n",
       "120    idk why but this sounds like u lol\n",
       "Name: content, Length: 108, dtype: object"
      ]
     },
     "execution_count": 10,
     "metadata": {},
     "output_type": "execute_result"
    }
   ],
   "source": [
    "# only messages of type \"Generic\" contain content\n",
    "messages_df[messages_df[\"type\"] == \"Generic\"][\"content\"]"
   ]
  },
  {
   "cell_type": "code",
   "execution_count": null,
   "id": "50c4c140",
   "metadata": {},
   "outputs": [],
   "source": []
  }
 ],
 "metadata": {
  "kernelspec": {
   "display_name": "Python 3 (ipykernel)",
   "language": "python",
   "name": "python3"
  },
  "language_info": {
   "codemirror_mode": {
    "name": "ipython",
    "version": 3
   },
   "file_extension": ".py",
   "mimetype": "text/x-python",
   "name": "python",
   "nbconvert_exporter": "python",
   "pygments_lexer": "ipython3",
   "version": "3.8.12"
  }
 },
 "nbformat": 4,
 "nbformat_minor": 5
}
